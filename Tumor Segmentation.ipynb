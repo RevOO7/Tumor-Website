{
 "cells": [
  {
   "cell_type": "markdown",
   "metadata": {},
   "source": [
    "# Brain Tumor Segmentation\n",
    "\n",
    "This Notebook will train a convolution neural network to segment tumors in brain scans."
   ]
  },
  {
   "cell_type": "markdown",
   "metadata": {},
   "source": [
    "## 1 Imports, Variables & Functions"
   ]
  },
  {
   "cell_type": "code",
   "execution_count": 1,
   "metadata": {},
   "outputs": [
    {
     "name": "stderr",
     "output_type": "stream",
     "text": [
      "Using TensorFlow backend.\n"
     ]
    }
   ],
   "source": [
    "import numpy as np\n",
    "import pandas as pd\n",
    "import matplotlib.pyplot as plt\n",
    "import skimage.io as io\n",
    "import skimage.transform as trans\n",
    "import random as r\n",
    "from keras.optimizers import Adam"
   ]
  },
  {
   "cell_type": "code",
   "execution_count": 2,
   "metadata": {
    "scrolled": true
   },
   "outputs": [],
   "source": [
    "import glob\n",
    "def create_data(src, mask, label=False, resize=(128,128,128)):\n",
    "    files = glob.glob(src + mask, recursive=True)\n",
    "    imgs = []\n",
    "    for file in files:\n",
    "        img = io.imread(file, plugin='simpleitk')\n",
    "        if label:\n",
    "            img[img == 4] = 1\n",
    "            img[img != 1] = 0\n",
    "            img = img.astype('float32')\n",
    "        else:\n",
    "            img = (img-img.mean()) / img.std()\n",
    "        img = trans.resize(img, resize, mode='constant')\n",
    "        imgs.append(img)\n",
    "    name = 'y' if label else 'x'\n",
    "    np.save(name, np.array(imgs)[..., np.newaxis].astype('float32'))\n",
    "    print('Saved', len(files), 'to', name)"
   ]
  },
  {
   "cell_type": "code",
   "execution_count": 3,
   "metadata": {},
   "outputs": [],
   "source": [
    "from keras.models import Input, Model\n",
    "from keras.layers import Conv2D, Concatenate, MaxPooling2D, Reshape\n",
    "from keras.layers import UpSampling2D, Activation, Permute\n",
    "\n",
    "def level_block(m, dim, depth, factor, acti):\n",
    "    if depth > 0:\n",
    "        n = Conv2D(dim, 3, activation=acti, padding='same')(m)\n",
    "        n = Conv2D(dim, 3, activation=acti, padding='same')(n)\n",
    "        m = MaxPooling2D()(n)\n",
    "        m = level_block(m, int(factor*dim), depth-1, factor, acti)\n",
    "        m = UpSampling2D()(m)\n",
    "        m = Conv2D(dim, 2, activation=acti, padding='same')(m)\n",
    "        m = Concatenate(axis=3)([n, m])\n",
    "    m = Conv2D(dim, 3, activation=acti, padding='same')(m)\n",
    "    return Conv2D(dim, 3, activation=acti, padding='same')(m)\n",
    "\n",
    "def UNet(img_shape, n_out=1, dim=64, depth=4, factor=2, acti='elu', flatten=False):\n",
    "    i = Input(shape=img_shape)\n",
    "    o = level_block(i, dim, depth, factor, acti)\n",
    "    o = Conv2D(n_out, (1, 1))(o)\n",
    "    if flatten:\n",
    "        o = Reshape(n_out, img_shape[0] * img_shape[1])(o)\n",
    "        o = Permute((2, 1))(o)\n",
    "    o = Activation('sigmoid')(o)\n",
    "    return Model(inputs=i, outputs=o)"
   ]
  },
  {
   "cell_type": "code",
   "execution_count": 4,
   "metadata": {},
   "outputs": [],
   "source": [
    "from keras.models import Input, Model\n",
    "from keras.layers import Conv3D, Concatenate, MaxPooling3D, Reshape\n",
    "from keras.layers import UpSampling3D, Activation, Permute\n",
    "\n",
    "def level_block_3d(m, dim, depth, factor, acti):\n",
    "    if depth > 0:\n",
    "        n = Conv3D(dim, 3, activation=acti, padding='same')(m)\n",
    "        m = MaxPooling3D()(n)\n",
    "        m = level_block_3d(m, int(factor*dim), depth-1, factor, acti)\n",
    "        m = UpSampling3D()(m)\n",
    "        m = Concatenate(axis=4)([n, m])\n",
    "    return Conv3D(dim, 3, activation=acti, padding='same')(m)\n",
    "\n",
    "def UNet_3D(img_shape, n_out=1, dim=64, depth=4, factor=2, acti='elu'):\n",
    "    i = Input(shape=img_shape)\n",
    "    o = level_block_3d(i, dim, depth, factor, acti)\n",
    "    o = Conv3D(n_out, 1, activation='sigmoid')(o)\n",
    "    return Model(inputs=i, outputs=o)"
   ]
  },
  {
   "cell_type": "code",
   "execution_count": 5,
   "metadata": {},
   "outputs": [],
   "source": [
    "import keras.backend as K\n",
    "def f1_score(y_true, y_pred):\n",
    "    y_true_f = K.flatten(y_true)\n",
    "    y_pred_f = K.flatten(y_pred)\n",
    "    intersection = K.sum(y_true_f * y_pred_f)\n",
    "    return (2. * intersection + 1.) / (K.sum(y_true_f) + K.sum(y_pred_f) + 1.)\n",
    "\n",
    "def f1_loss(y_true, y_pred):\n",
    "    return -f1_score(y_true, y_pred)"
   ]
  },
  {
   "cell_type": "markdown",
   "metadata": {},
   "source": [
    "## 2 Process Data"
   ]
  },
  {
   "cell_type": "code",
   "execution_count": 6,
   "metadata": {},
   "outputs": [
    {
     "name": "stderr",
     "output_type": "stream",
     "text": [
      "/home/nm/anaconda3/lib/python3.6/site-packages/skimage/transform/_warps.py:110: UserWarning: Anti-aliasing will be enabled by default in skimage 0.15 to avoid aliasing artifacts when down-sampling images.\n",
      "  warn(\"Anti-aliasing will be enabled by default in skimage 0.15 to \"\n"
     ]
    },
    {
     "name": "stdout",
     "output_type": "stream",
     "text": [
      "Saved 220 to x\n",
      "Saved 220 to y\n"
     ]
    }
   ],
   "source": [
    "create_data('BRATS2015_Training/BRATS2015_Training/HGG/', '**/*T1c*.mha', label=False, resize=(32,32,32))\n",
    "create_data('BRATS2015_Training/BRATS2015_Training/HGG/', '**/*OT*.mha', label=True, resize=(32,32,32))"
   ]
  },
  {
   "cell_type": "markdown",
   "metadata": {},
   "source": [
    "## 3 Load Data"
   ]
  },
  {
   "cell_type": "code",
   "execution_count": 7,
   "metadata": {
    "scrolled": false
   },
   "outputs": [
    {
     "name": "stdout",
     "output_type": "stream",
     "text": [
      "x:  (220, 32, 32, 32, 1)\n",
      "y: (220, 32, 32, 32, 1)\n"
     ]
    }
   ],
   "source": [
    "x = np.load('x.npy')\n",
    "print('x: ', x.shape)\n",
    "y = np.load('y.npy')\n",
    "print('y:', y.shape)"
   ]
  },
  {
   "cell_type": "markdown",
   "metadata": {},
   "source": [
    "Let's take a look at a few samples to check if the labels are correct"
   ]
  },
  {
   "cell_type": "code",
   "execution_count": 8,
   "metadata": {
    "scrolled": false
   },
   "outputs": [
    {
     "data": {
      "image/png": "[encoded data removed]",
      "text/plain": [
       "<Figure size 720x720 with 2 Axes>"
      ]
     },
     "metadata": {
      "needs_background": "light"
     },
     "output_type": "display_data"
    }
   ],
   "source": [
    "import random as r\n",
    "i = int(r.random() * x.shape[0])\n",
    "plt.figure(figsize=(10,10))\n",
    "plt.subplot(121)\n",
    "plt.imshow(x[i, int(x.shape[1]/2), :, :, 0])\n",
    "plt.subplot(122)\n",
    "plt.imshow(y[i, int(y.shape[1]/2), :, :, 0])\n",
    "plt.show()"
   ]
  },
  {
   "cell_type": "markdown",
   "metadata": {},
   "source": [
    "## 4 Training"
   ]
  },
  {
   "cell_type": "code",
   "execution_count": 9,
   "metadata": {},
   "outputs": [],
   "source": [
    "model = UNet_3D(x.shape[1:], dim=16, factor=1)"
   ]
  },
  {
   "cell_type": "code",
   "execution_count": 10,
   "metadata": {},
   "outputs": [],
   "source": [
    "model.load_weights('weights.h5')"
   ]
  },
  {
   "cell_type": "code",
   "execution_count": 11,
   "metadata": {},
   "outputs": [],
   "source": [
    "model.compile(optimizer=Adam(lr=0.000001), loss=f1_loss)"
   ]
  },
  {
   "cell_type": "code",
   "execution_count": 12,
   "metadata": {
    "scrolled": false
   },
   "outputs": [
    {
     "name": "stdout",
     "output_type": "stream",
     "text": [
      "Train on 176 samples, validate on 44 samples\n",
      "Epoch 1/5\n",
      "176/176 [==============================] - 122s 691ms/step - loss: -0.5662 - val_loss: -0.5732\n",
      "Epoch 2/5\n",
      "176/176 [==============================] - 130s 740ms/step - loss: -0.5672 - val_loss: -0.5732\n",
      "Epoch 3/5\n",
      "176/176 [==============================] - 139s 789ms/step - loss: -0.5751 - val_loss: -0.5738\n",
      "Epoch 4/5\n",
      "176/176 [==============================] - 141s 803ms/step - loss: -0.5733 - val_loss: -0.5741\n",
      "Epoch 5/5\n",
      "176/176 [==============================] - 137s 780ms/step - loss: -0.5558 - val_loss: -0.5742\n"
     ]
    },
    {
     "data": {
      "text/plain": [
       "<keras.callbacks.History at 0x7fd2c014bd30>"
      ]
     },
     "execution_count": 12,
     "metadata": {},
     "output_type": "execute_result"
    }
   ],
   "source": [
    "model.fit(x, y, validation_split=0.2, epochs=5, batch_size=8, verbose=1)"
   ]
  },
  {
   "cell_type": "code",
   "execution_count": 13,
   "metadata": {},
   "outputs": [],
   "source": [
    "model.save_weights('weights.h5')"
   ]
  },
  {
   "cell_type": "code",
   "execution_count": 14,
   "metadata": {},
   "outputs": [],
   "source": [
    "pred = model.predict(x[:50])"
   ]
  },
  {
   "cell_type": "code",
   "execution_count": 15,
   "metadata": {},
   "outputs": [
    {
     "data": {
      "image/png": "[encoded data removed]",
      "text/plain": [
       "<Figure size 1080x720 with 3 Axes>"
      ]
     },
     "metadata": {
      "needs_background": "light"
     },
     "output_type": "display_data"
    },
    {
     "data": {
      "image/png": "[encoded data removed]",
      "text/plain": [
       "<Figure size 1080x720 with 3 Axes>"
      ]
     },
     "metadata": {
      "needs_background": "light"
     },
     "output_type": "display_data"
    },
    {
     "data": {
      "image/png": "[encoded data removed]",
      "text/plain": [
       "<Figure size 1080x720 with 3 Axes>"
      ]
     },
     "metadata": {
      "needs_background": "light"
     },
     "output_type": "display_data"
    }
   ],
   "source": [
    "import random as r\n",
    "num = int(x.shape[1]/2)\n",
    "for n in range(3):\n",
    "    i = int(r.random() * pred.shape[0])\n",
    "    plt.figure(figsize=(15,10))\n",
    "\n",
    "    plt.subplot(131)\n",
    "    plt.title('Input')\n",
    "    plt.imshow(x[i, num, :, :, 0])\n",
    "\n",
    "    plt.subplot(132)\n",
    "    plt.title('Ground Truth')\n",
    "    plt.imshow(y[i, num, :, :, 0])\n",
    "\n",
    "    plt.subplot(133)\n",
    "    plt.title('Prediction')\n",
    "    plt.imshow(pred[i, num, :, :, 0])\n",
    "\n",
    "    plt.show()"
   ]
  },
  {
   "cell_type": "code",
   "execution_count": 16,
   "metadata": {},
   "outputs": [
    {
     "name": "stdout",
     "output_type": "stream",
     "text": [
      "Saved model to disk\n"
     ]
    }
   ],
   "source": [
    "# serialize model to JSON\n",
    "model_json = model.to_json()\n",
    "with open(\"model.json\", \"w\") as json_file:\n",
    "    json_file.write(model_json)\n",
    "# serialize weights to HDF5\n",
    "model.save_weights(\"model.h5\")\n",
    "print(\"Saved model to disk\")"
   ]
  }
 ],
 "metadata": {
  "kernelspec": {
   "display_name": "Python 3",
   "language": "python",
   "name": "python3"
  },
  "language_info": {
   "codemirror_mode": {
    "name": "ipython",
    "version": 3
   },
   "file_extension": ".py",
   "mimetype": "text/x-python",
   "name": "python",
   "nbconvert_exporter": "python",
   "pygments_lexer": "ipython3",
   "version": "3.6.6"
  }
 },
 "nbformat": 4,
 "nbformat_minor": 2
}
